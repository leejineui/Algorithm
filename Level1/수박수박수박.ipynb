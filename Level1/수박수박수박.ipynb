{
 "cells": [
  {
   "cell_type": "markdown",
   "source": [
    "## 길이가 n이고, \"수박수박수박수....\"와 같은 패턴을 유지하는 문자열을 리턴하는 함수, solution을 완성하세요. 예를들어 n이 4이면 \"수박수박\"을 리턴하고 3이라면 \"수박수\"를 리턴하면 됩니다.\r\n",
    "\r\n",
    "제한 조건\r\n",
    "n은 길이 10,000이하인 자연수입니다.\r\n",
    "입출력 예\r\n",
    "n\treturn\r\n",
    "3\t\"수박수\"\r\n",
    "4\t\"수박수박\""
   ],
   "metadata": {}
  },
  {
   "cell_type": "code",
   "execution_count": null,
   "source": [
    "def solution(n):\r\n",
    "    if n % 2 == 0:\r\n",
    "        # TypeError: unsupported operand type(s) for //: 'str' and 'int'   : // 는  str int 의 계산을 허용하지 않는다. 하지만 * 는 str int 의 계산을 허용\r\n",
    "        # 따라서 // 를 먼저 해수고 str 과 int 의  *의계산이 가능하도록 한다.\r\n",
    "        return \"수박\" * (n//2)\r\n",
    "    else:\r\n",
    "\r\n",
    "        return \"수박\" * (n//2) + \"수\"\r\n",
    "# return 을 한 상태 에서는 굳이 print 를 쓰는 것은 의미가 없는 행위 , 함수를 부를때 확이 하기 위해서 print 를 넣는것 . 함수 안에 return 이 있다면 print 넣지 않기\r\n",
    "\r\n",
    "\r\n",
    "print(solution(5))\r\n"
   ],
   "outputs": [],
   "metadata": {}
  },
  {
   "cell_type": "code",
   "execution_count": null,
   "source": [],
   "outputs": [],
   "metadata": {}
  },
  {
   "cell_type": "markdown",
   "source": [],
   "metadata": {}
  },
  {
   "cell_type": "markdown",
   "source": [],
   "metadata": {}
  }
 ],
 "metadata": {
  "orig_nbformat": 4,
  "language_info": {
   "name": "python"
  }
 },
 "nbformat": 4,
 "nbformat_minor": 2
}